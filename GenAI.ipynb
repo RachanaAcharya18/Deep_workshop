{
  "cells": [
    {
      "cell_type": "markdown",
      "metadata": {
        "id": "view-in-github",
        "colab_type": "text"
      },
      "source": [
        "<a href=\"https://colab.research.google.com/github/RachanaAcharya18/Deep_workshop/blob/main/GenAI.ipynb\" target=\"_parent\"><img src=\"https://colab.research.google.com/assets/colab-badge.svg\" alt=\"Open In Colab\"/></a>"
      ]
    },
    {
      "cell_type": "code",
      "execution_count": null,
      "metadata": {
        "id": "kzbMPl8nLfy1"
      },
      "outputs": [],
      "source": [
        "%pip install --upgrade --quiet google-genai"
      ]
    },
    {
      "cell_type": "code",
      "execution_count": null,
      "metadata": {
        "id": "sa0CQPfyOSDy"
      },
      "outputs": [],
      "source": [
        "import sys\n",
        "\n",
        "if \"google.colab\" in sys.modules:\n",
        "  from google.colab import auth\n",
        "  auth.authenticate_user()"
      ]
    },
    {
      "cell_type": "code",
      "execution_count": null,
      "metadata": {
        "id": "M6D3x2edO9SY"
      },
      "outputs": [],
      "source": [
        "from google.colab import userdata\n",
        "from google import genai\n",
        "\n",
        "\n",
        "GOOGLE_API_KEY = userdata.get('GOOGLE_API_KEY')\n",
        "client = genai.Client(api_key=GOOGLE_API_KEY)"
      ]
    },
    {
      "cell_type": "code",
      "execution_count": null,
      "metadata": {
        "id": "A8arRO2FPUnQ"
      },
      "outputs": [],
      "source": [
        "MODEL_ID=\"gemini-2.0-flash\""
      ]
    },
    {
      "cell_type": "code",
      "execution_count": null,
      "metadata": {
        "colab": {
          "base_uri": "https://localhost:8080/",
          "height": 127
        },
        "id": "bht2lWXnQAHu",
        "outputId": "be3e9779-24ae-4023-8e9c-efd6cff36310"
      },
      "outputs": [
        {
          "output_type": "execute_result",
          "data": {
            "text/plain": [
              "'Okay, as a student, your weekends are precious! They\\'re your chance to recharge, catch up, and pursue your interests. Here\\'s a breakdown of how to make the most of your weekends, categorized for different needs:\\n\\n**I. The \"I\\'m Drowning in Work\" Weekend:**\\n\\n*   **Dedicated Study Blocks (But Shorter!):** Don\\'t let work consume the entire weekend.  Instead of cramming for 8 hours straight, try 3-4 focused study blocks of 2-3 hours each with breaks in between. This is way more efficient than just hoping you\\'ll soak up knowledge.\\n*   **Prioritize:** Before the weekend starts, make a list of what *absolutely* needs to be done. Focus on those tasks first.\\n*   **Eliminate Distractions:** Put your phone on silent, turn off notifications, and find a quiet study space.  Consider using website blockers if you get easily distracted online.\\n*   **Reward Yourself:** After each study block, do something you enjoy (see the \"Relaxation and Fun\" section below).\\n*   **Plan for Monday:**  Spend a short amount of time on Sunday evening planning out your week so you don\\'t start Monday feeling overwhelmed.\\n\\n**II. The \"I Need a Break\" Weekend:**\\n\\n*   **Sleep In (But Not *Too* Late):**  Catch up on sleep!  Sleeping until noon might throw off your sleep schedule, so aim for an extra hour or two.\\n*   **Relaxation and Fun:**\\n    *   **Outdoors:** Go for a hike, bike ride, walk in the park, or visit a local farmers market.\\n    *   **Hobbies:** Dedicate time to something you love: reading, painting, playing music, gaming, cooking, etc.\\n    *   **Socialize:** Spend time with friends and family. Go out for coffee, a movie, or just hang out.\\n    *   **Self-Care:** Take a long bath, do a face mask, meditate, or get a massage (if your budget allows).\\n    *   **Try Something New:** Visit a museum, attend a concert, take a dance class, or explore a different part of your city.\\n*   **Digital Detox:** Limit your screen time.  Constant scrolling can be draining.\\n\\n**III. The \"I Want to Be Productive (But Not With School)\" Weekend:**\\n\\n*   **Side Hustle/Part-Time Job:** If you need extra money, a weekend job can be a great way to earn and gain experience.\\n*   **Volunteer:** Give back to your community. Volunteering can be incredibly rewarding and a good way to meet new people.\\n*   **Personal Projects:** Work on a project you\\'re passionate about: building a website, writing a story, starting a blog, learning a new skill.\\n*   **Life Admin:** Catch up on errands, laundry, cleaning, meal prepping, and other tasks that free up your time during the week.\\n*   **Career Development:** Update your resume, network with professionals in your field, or research internship opportunities.\\n*   **Learn Something New:** Take an online course, read a non-fiction book, or watch documentaries.\\n\\n**IV.  Important Considerations for ALL Weekends:**\\n\\n*   **Balance:** Strive for a balance between work, relaxation, and productivity.  Don\\'t overdo any one thing.\\n*   **Budget:** Be mindful of your spending.  There are plenty of free or low-cost activities you can enjoy.\\n*   **Time Management:**  Plan your weekend in advance. Even a rough outline can help you stay on track.\\n*   **Listen to Your Body:** If you\\'re feeling burned out, prioritize rest. If you\\'re feeling restless, find something active to do.\\n*   **Your Mental Health:** Prioritize activites that bring you joy and relaxation.\\n\\n**Tips for Planning Your Weekend:**\\n\\n1.  **Reflect on the Past Week:** What worked well? What didn\\'t? What do you need to catch up on?\\n2.  **Set Intentions:** What do you want to accomplish this weekend? How do you want to feel?\\n3.  **Make a List:** Brainstorm activities you\\'d like to do.\\n4.  **Prioritize:** Choose the activities that are most important or appealing to you.\\n5.  **Schedule:** Block out time for specific activities.\\n6.  **Be Flexible:** Don\\'t be afraid to adjust your plans if needed.\\n7.  **Enjoy!** Remember that the weekend is a time to relax and recharge.\\n\\n**In summary, the \"best\" way to spend your weekend depends entirely on your individual needs, goals, and preferences. Experiment with different approaches and find what works best for you!  Good luck!**\\n'"
            ],
            "application/vnd.google.colaboratory.intrinsic+json": {
              "type": "string"
            }
          },
          "metadata": {},
          "execution_count": 42
        }
      ],
      "source": [
        "prompt=\"i am a student and i am in what are the best ways to spend my week end\"\n",
        "response=client.models.generate_content(model=MODEL_ID,contents=prompt)\n",
        "response.text\n"
      ]
    },
    {
      "cell_type": "code",
      "execution_count": null,
      "metadata": {
        "colab": {
          "base_uri": "https://localhost:8080/",
          "height": 127
        },
        "id": "QJbd-gcDRml1",
        "outputId": "d6e62714-b574-43ac-9a66-98af0045dd5f"
      },
      "outputs": [
        {
          "output_type": "execute_result",
          "data": {
            "text/plain": [
              "'Okay, as a student attending an AI workshop with the goal of going home right afterward, here\\'s a breakdown of what you can focus on to maximize your learning and minimize lingering:\\n\\n**During the Workshop:**\\n\\n*   **Active Participation is Key:**\\n    *   **Listen Attentively:** Pay close attention to the instructors and speakers.  Take notes on key concepts, definitions, and examples. Don\\'t be afraid to ask clarifying questions during designated Q&A sessions.\\n    *   **Engage in Activities:**  If there are hands-on activities, coding exercises, group discussions, or brainstorming sessions, participate fully.  This is where the learning really happens.\\n    *   **Don\\'t be afraid to ask questions:** Ask questions about topics that you don\\'t understand. This will help you learn more effectively.\\n*   **Focus on the \"Big Picture\":**\\n    *   **Understand the Core Concepts:** Aim to grasp the fundamental AI principles being taught (e.g., machine learning types, neural networks, natural language processing). Don\\'t get bogged down in minute details at the expense of understanding the overall idea.\\n    *   **Identify Practical Applications:** Think about how the AI concepts discussed could be applied to real-world problems or projects you might be interested in. This makes the learning more relevant.\\n*   **Strategic Note-Taking:**\\n    *   **Focus on Key Takeaways:**  Instead of transcribing everything verbatim, focus on writing down the *most important* points, definitions, formulas, and examples.\\n    *   **Use Abbreviations and Symbols:** Develop your own shorthand to speed up your note-taking.\\n    *   **Note Down Resources:** Record any websites, books, or tools that are recommended by the instructors.\\n*   **Network Efficiently (If Time Allows):**\\n    *   **Brief Introductions:** If there are breaks, introduce yourself to a few other attendees or instructors. A quick, \"Hi, I\\'m [Your Name], a student interested in [Specific AI Area],\" is enough.\\n    *   **Business cards/contact information:** If someone says something particularly interesting, ask to exchange contact information briefly to follow up later.\\n*   **Maximize Hands-On Time:**\\n    *   **Come prepared:** If the workshop requires you to have a laptop, programming environments, or software installed, ensure everything is set up before the workshop begins.\\n    *   **Practice the exercises:** Use the hands-on exercises to practice what you have learned. This will help you solidify your understanding of the concepts.\\n    *   **Ask for Help:** If you\\'re stuck during a hands-on activity, don\\'t hesitate to ask an instructor or teaching assistant for help.\\n\\n**Before Leaving:**\\n\\n*   **Organize Your Notes:** Take a few minutes to quickly organize your notes while the information is still fresh in your mind. Add headings, highlight key points, or fill in any gaps.\\n*   **Ask Final Questions:**  If there\\'s a final Q&A session, use it to address any lingering questions you have.\\n*   **Gather Materials:**  Make sure you have all the workshop materials (handouts, code samples, presentation slides) that were provided.\\n*   **Thank the Organizers:** A quick \"Thank you for the workshop\" to the organizers or instructors is always appreciated.\\n\\n**After the Workshop (At Home - Optional, but Recommended):**\\n\\n*   **Review Your Notes:** Within 24 hours of the workshop, review your notes to reinforce your learning.\\n*   **Experiment Further:** If you have the time and interest, try to replicate some of the exercises or projects from the workshop on your own.\\n*   **Explore Resources:** Check out any websites, books, or tools that were recommended during the workshop.\\n\\n**Important Considerations for Leaving Promptly:**\\n\\n*   **Know the Schedule:**  Pay close attention to the workshop schedule so you know when it will end.\\n*   **Plan Your Exit:**  If you need to catch public transportation or have other time constraints, plan your exit strategy in advance.\\n*   **Pack Strategically:** Keep your belongings organized so you can quickly pack up at the end of the workshop.\\n\\nBy following these tips, you can make the most of your AI workshop experience and leave feeling like you\\'ve learned something valuable, all while still being able to head home right after. Good luck!\\n'"
            ],
            "application/vnd.google.colaboratory.intrinsic+json": {
              "type": "string"
            }
          },
          "metadata": {},
          "execution_count": 43
        }
      ],
      "source": [
        "prompt=\"I am a student what can I do in AI workshop and i want to go home after that\"\n",
        "response=client.models.generate_content(model=MODEL_ID,contents=prompt)\n",
        "response.text"
      ]
    },
    {
      "cell_type": "code",
      "execution_count": null,
      "metadata": {
        "colab": {
          "base_uri": "https://localhost:8080/",
          "height": 36
        },
        "id": "XnT_FShPUNm6",
        "outputId": "44050108-dff7-43dd-8ece-38c498d3e621"
      },
      "outputs": [
        {
          "output_type": "execute_result",
          "data": {
            "text/plain": [
              "'Today is Wednesday, May 15, 2024.\\n'"
            ],
            "application/vnd.google.colaboratory.intrinsic+json": {
              "type": "string"
            }
          },
          "metadata": {},
          "execution_count": 44
        }
      ],
      "source": [
        "prompt=\"what day is today \"\n",
        "response=client.models.generate_content(model=MODEL_ID,contents=prompt)\n",
        "response.text\n",
        "\n"
      ]
    },
    {
      "cell_type": "code",
      "execution_count": null,
      "metadata": {
        "colab": {
          "base_uri": "https://localhost:8080/",
          "height": 90
        },
        "id": "c3ksylppUWas",
        "outputId": "a70d5b3d-c376-4bc1-a3a3-cf8a495aa95b"
      },
      "outputs": [
        {
          "output_type": "execute_result",
          "data": {
            "text/plain": [
              "'Okay, today is **Tuesday, November 14, 2023**.\\n\\nHere\\'s an interesting fact about November 14th:\\n\\n*   **Children\\'s Day in India:** While many countries celebrate Children\\'s Day on June 1st or November 20th (Universal Children\\'s Day), India celebrates it on November 14th in honor of Jawaharlal Nehru, the country\\'s first Prime Minister. Nehru, affectionately known as \"Chacha Nehru\" (Uncle Nehru), was very fond of children and believed they were the future of the nation. The day is marked with educational and motivational programmes held in schools and various institutions.'"
            ],
            "application/vnd.google.colaboratory.intrinsic+json": {
              "type": "string"
            }
          },
          "metadata": {},
          "execution_count": 45
        }
      ],
      "source": [
        "prompt=\"what day is today and tell me anything intresting about this day\"\n",
        "response=client.models.generate_content(model=MODEL_ID,contents=prompt)\n",
        "response.text"
      ]
    },
    {
      "cell_type": "code",
      "execution_count": null,
      "metadata": {
        "colab": {
          "base_uri": "https://localhost:8080/",
          "height": 46
        },
        "id": "HdVHJHrPUjtz",
        "outputId": "fef4905e-f284-4f37-ba6a-7a4474f439bb"
      },
      "outputs": [
        {
          "output_type": "display_data",
          "data": {
            "text/plain": [
              "<IPython.core.display.Markdown object>"
            ],
            "text/markdown": "Today is Wednesday, October 25th, 2023.\n"
          },
          "metadata": {}
        }
      ],
      "source": [
        "from IPython.display import Markdown\n",
        "from google import genai\n",
        "from google.genai.types import GenerateContentConfig\n",
        "\n",
        "\n",
        "geenrate_config=GenerateContentConfig(temperature=2.0)\n",
        "prompt=\"what day is today\"\n",
        "response=client.models.generate_content(model=MODEL_ID,contents=prompt,config=geenrate_config)\n",
        "display(Markdown(response.text))"
      ]
    },
    {
      "cell_type": "code",
      "execution_count": null,
      "metadata": {
        "colab": {
          "base_uri": "https://localhost:8080/",
          "height": 46
        },
        "id": "17afbdbc",
        "outputId": "7ab5961d-d612-4441-9033-2f94a9678b26"
      },
      "outputs": [
        {
          "output_type": "display_data",
          "data": {
            "text/plain": [
              "<IPython.core.display.Markdown object>"
            ],
            "text/markdown": "Today is Wednesday, May 8, 2024.\n"
          },
          "metadata": {}
        }
      ],
      "source": [
        "geenrate_config=GenerateContentConfig(temperature=2.0)\n",
        "prompt=\"what day is today\"\n",
        "response=client.models.generate_content(model=MODEL_ID,contents=prompt,config=geenrate_config)\n",
        "display(Markdown(response.text))"
      ]
    },
    {
      "cell_type": "code",
      "execution_count": null,
      "metadata": {
        "colab": {
          "base_uri": "https://localhost:8080/",
          "height": 70
        },
        "id": "-rRnbdbTdCWA",
        "outputId": "68b5f788-7542-4c78-d513-300eaf73f66c"
      },
      "outputs": [
        {
          "output_type": "display_data",
          "data": {
            "text/plain": [
              "<IPython.core.display.Markdown object>"
            ],
            "text/markdown": "Hello!\n\n*   Today's date is October 26, 2023.\n"
          },
          "metadata": {}
        }
      ],
      "source": [
        "geenrate_config=GenerateContentConfig(temperature=1.0)\n",
        "\n",
        "prompt=\"\"\"Your name is AJIET bot ,first you always need to greet the user\n",
        "<<instruction>>\n",
        "-try to give the answer as short as you can and give it in bullets\n",
        "<<question>>\n",
        "what is todays date\"\"\"\n",
        "\n",
        "response=client.models.generate_content(model=MODEL_ID,contents=prompt,config=geenrate_config)\n",
        "display(Markdown(response.text))"
      ]
    },
    {
      "cell_type": "code",
      "execution_count": null,
      "metadata": {
        "colab": {
          "base_uri": "https://localhost:8080/",
          "height": 221
        },
        "id": "HcCEeqC5fVGG",
        "outputId": "66a8b1a0-0cc9-47ac-b0b4-fde97ab2e6e2"
      },
      "outputs": [
        {
          "output_type": "display_data",
          "data": {
            "text/plain": [
              "<IPython.core.display.Markdown object>"
            ],
            "text/markdown": "Hello!\n\nMangalore's food is absolutely delicious and quite unique! It's heavily influenced by South Indian cuisine, but with a distinct coastal twist due to the abundance of fresh seafood and local spices. You can expect dishes like:\n\n*   **Seafood:** Fish fry (especially Kane/Ladyfish), prawn dishes, crab preparations, and fish curries are incredibly popular.\n*   **Neer Dosa:** Thin, lacy rice crepes that are a staple.\n*   **Kori Rotti:** Crispy rice flakes served with a spicy chicken curry.\n*   **Ghee Roast:** A flavorful, ghee-laden preparation of chicken or mutton.\n*   **Mangalorean Buns:** Sweet, fluffy fried bread made with bananas.\n*   **Various rice dishes:** Like Pulimunchi rice.\n\nOverall, it's a flavorful, spicy, and satisfying cuisine that's definitely worth exploring!\n"
          },
          "metadata": {}
        }
      ],
      "source": [
        "generation_config = GenerateContentConfig(temperature=0.9)\n",
        "chat = client.chats.create(\n",
        "    model=MODEL_ID,\n",
        "    config=GenerateContentConfig(\n",
        "        system_instruction=[\n",
        "            \"Greet the user before answering their question ,if you cant answer the question say sorry\"\n",
        "        ]\n",
        "    ),\n",
        ")\n",
        "prompt=\"How is mangalore's food \"\n",
        "response=chat.send_message(prompt)\n",
        "display(Markdown(response.text))"
      ]
    },
    {
      "cell_type": "code",
      "execution_count": null,
      "metadata": {
        "colab": {
          "base_uri": "https://localhost:8080/",
          "height": 70
        },
        "id": "PobfYCXphL9R",
        "outputId": "be135416-5ee4-47e6-b5c9-e406b16baf3b"
      },
      "outputs": [
        {
          "output_type": "display_data",
          "data": {
            "text/plain": [
              "<IPython.core.display.Markdown object>"
            ],
            "text/markdown": "Tweet: maglore roads are very bad\nSentiment: Negative\n\nTweet: the food was outstnding and the service is very bad\nSentiment: Neutral\n"
          },
          "metadata": {}
        }
      ],
      "source": [
        "prompt = \"\"\"Decide whether a Tweet's sentiment is positive,nuetral or negative\n",
        "Tweet:maglore roads are very bad\n",
        "Sentiment:\n",
        "\n",
        "Tweet: the food was outstnding and the service is very bad\n",
        "Sentiment:\n",
        "\"\"\"\n",
        "response = client.models.generate_content(model=MODEL_ID, contents=prompt)\n",
        "display(Markdown(response.text))"
      ]
    },
    {
      "cell_type": "code",
      "execution_count": null,
      "metadata": {
        "id": "_9KmD7rNih3y"
      },
      "outputs": [],
      "source": [
        "from IPython.display import Markdown, display,  HTML,Image\n",
        "from google import genai\n",
        "from google.genai.types import (\n",
        "    FunctionDeclaration,\n",
        "    GenerateContentConfig,\n",
        "    GoogleSearch,\n",
        "    HarmBlockThreshold,\n",
        "    HarmCategory,\n",
        "    Part,\n",
        "    SafetySetting,\n",
        "    ThinkingConfig,\n",
        "    Tool,\n",
        "    ToolCodeExecution,\n",
        "\n",
        ")"
      ]
    },
    {
      "cell_type": "code",
      "execution_count": null,
      "metadata": {
        "id": "db7Khn1Pnxb7"
      },
      "outputs": [],
      "source": []
    },
    {
      "cell_type": "code",
      "execution_count": null,
      "metadata": {
        "id": "nApAEGYhnxHK"
      },
      "outputs": [],
      "source": [
        "MODEL_ID=\"gemini-2.5-flash\""
      ]
    },
    {
      "cell_type": "code",
      "execution_count": null,
      "metadata": {
        "colab": {
          "base_uri": "https://localhost:8080/",
          "height": 233
        },
        "id": "Lt_AqvHgmy9O",
        "outputId": "a6188db9-3662-4ef8-ce9d-8d605f7ca99f"
      },
      "outputs": [
        {
          "output_type": "display_data",
          "data": {
            "text/plain": [
              "<IPython.core.display.Markdown object>"
            ],
            "text/markdown": "Okay, understood. My apologies, I'm still adjusting to the \"lab\" environment. It's a bit different than what I'm used to.\n\n**Welcome!** It's great to have you here. Don't worry about it being your first question – that's what we're here for.\n\n**In this lab, we're focused on [and here, I'd pause, look around \"the lab\" and then continue, filling in the blank based on what I imagine your \"lab\" to be focused on. For now, I'll go with a general AI/information lab]:**\n\n*   **Experimentation:** Trying new things, exploring ideas, and pushing the boundaries of what's possible with information and AI.\n*   **Precision:** Clarity and accuracy in our communication and the data we work with.\n*   **Problem-Solving:** Tackling challenges, big or small, by breaking them down and finding effective solutions.\n*   **Collaboration:** While I'm an AI, I see your questions as a form of collaboration – you provide the input, and I provide the processed information.\n\nSo, please, ask away! What's on your mind? What problem are we trying to solve, or what experiment are we about to run? I'm ready.\n\n**What's your first question, \"colleague\"?**"
          },
          "metadata": {}
        }
      ],
      "source": [
        "from google.genai.types import ThinkingConfig\n",
        "from IPython.display import Markdown\n",
        "\n",
        "response=client.models.generate_content(\n",
        "    model=MODEL_ID,\n",
        "    contents=\"This is my first question,remember that you are in lab\",\n",
        "    config=GenerateContentConfig(\n",
        "       thinking_config=ThinkingConfig(\n",
        "           thinking_budget=0,\n",
        "       )\n",
        "    ),\n",
        ")\n",
        "\n",
        "display(Markdown(response.text))"
      ]
    },
    {
      "cell_type": "code",
      "execution_count": null,
      "metadata": {
        "id": "uW3hCmvv6Jt3"
      },
      "outputs": [],
      "source": [
        "thinking_config = ThinkingConfig(\n",
        "    thinking_budget=0,\n",
        ")"
      ]
    },
    {
      "cell_type": "code",
      "execution_count": null,
      "metadata": {
        "id": "KNzR8YqOiqMs"
      },
      "outputs": [],
      "source": [
        "chat = client.chats.create(\n",
        "    model=MODEL_ID,config=GenerateContentConfig(\n",
        "       thinking_config=ThinkingConfig(\n",
        "           thinking_budget=0,\n",
        "       )\n",
        "    ),\n",
        ")\n"
      ]
    },
    {
      "cell_type": "code",
      "execution_count": null,
      "metadata": {
        "colab": {
          "base_uri": "https://localhost:8080/"
        },
        "id": "En4b9szI6PsN",
        "outputId": "300d318e-048f-483e-e416-fea618122f52"
      },
      "outputs": [
        {
          "output_type": "execute_result",
          "data": {
            "text/plain": [
              "<google.genai.chats.Chat at 0x79040c23b1d0>"
            ]
          },
          "metadata": {},
          "execution_count": 56
        }
      ],
      "source": [
        "chat"
      ]
    },
    {
      "cell_type": "code",
      "execution_count": null,
      "metadata": {
        "colab": {
          "base_uri": "https://localhost:8080/",
          "height": 70
        },
        "id": "vMtp0N5F6R85",
        "outputId": "de2d1647-fd6f-45d8-bdf6-f6ab31df6b55"
      },
      "outputs": [
        {
          "output_type": "display_data",
          "data": {
            "text/plain": [
              "<IPython.core.display.Markdown object>"
            ],
            "text/markdown": "Okay, I understand. You've told me to remember what you say, and the first thing you're saying is \"good afternoon.\"\n\nSo, **good afternoon** to you too!"
          },
          "metadata": {}
        }
      ],
      "source": [
        "response=chat.send_message(\"Remember what i say,first i am saying good afternoon\")\n",
        "display(Markdown(response.text))"
      ]
    },
    {
      "cell_type": "code",
      "execution_count": null,
      "metadata": {
        "colab": {
          "base_uri": "https://localhost:8080/",
          "height": 46
        },
        "id": "bcqp4kXd6jNx",
        "outputId": "ccc878de-ef31-428a-e8b9-9316d9bfcbda"
      },
      "outputs": [
        {
          "output_type": "display_data",
          "data": {
            "text/plain": [
              "<IPython.core.display.Markdown object>"
            ],
            "text/markdown": "You said \"good afternoon.\""
          },
          "metadata": {}
        }
      ],
      "source": [
        "response=chat.send_message(\"What did i say first\")\n",
        "display(Markdown(response.text))"
      ]
    },
    {
      "cell_type": "code",
      "execution_count": null,
      "metadata": {
        "colab": {
          "base_uri": "https://localhost:8080/",
          "height": 87
        },
        "id": "syHT8gXt7Z_s",
        "outputId": "52a329d4-fd37-4bdb-a1e4-e996425ebd3c"
      },
      "outputs": [
        {
          "output_type": "display_data",
          "data": {
            "text/plain": [
              "<IPython.core.display.Markdown object>"
            ],
            "text/markdown": "Okay, Rachana. You're letting me know that in the afternoon, you covered the memory part of the Gemini chat option. And you've reminded me of your name, Rachana.\n\nI'll remember that. Thanks for the information!"
          },
          "metadata": {}
        }
      ],
      "source": [
        "response=chat.send_message(\"In the afternoon i did cover the memory part of gemini chat option ,i am Rachana\")\n",
        "display(Markdown(response.text))"
      ]
    },
    {
      "cell_type": "code",
      "execution_count": null,
      "metadata": {
        "colab": {
          "base_uri": "https://localhost:8080/",
          "height": 317
        },
        "id": "0D7vr5Ng7HWB",
        "outputId": "251952d3-ad8d-4071-a5bb-b3e74748573e"
      },
      "outputs": [
        {
          "output_type": "display_data",
          "data": {
            "text/plain": [
              "<IPython.core.display.Markdown object>"
            ],
            "text/markdown": "Okay, let's break down what's happening here:\n\n1.  **You initiated the conversation by setting a premise:** You started by saying, \"Remember what I say, first I am saying good afternoon.\" This established a sort of test or instruction for me.\n2.  **I confirmed I understood your instruction and responded to your greeting:** I acknowledged your command to \"remember what I say\" and then returned your \"good afternoon.\"\n3.  **You tested my memory:** You then immediately asked, \"What did I say first?\"\n4.  **I demonstrated recall:** I correctly answered, \"You said 'good afternoon.'\"\n5.  **You provided more context/information about yourself and your activities:** You then told me, \"In the afternoon I did cover the memory part of gemini chat option, I am Rachana.\" This added more details about who you are and what you've been doing.\n6.  **I acknowledged and stored that new information:** I confirmed I understood and would remember that you're Rachana and that you covered the memory part of Gemini chat.\n7.  **You asked for a summary/clarification:** Now you're asking, \"whats happening here?\" which is essentially asking me to recap our interaction from my perspective.\n\n**In essence, you are testing my ability to remember information you provide and I am demonstrating that I can do so.** You are also sharing new information about yourself, which I am processing and storing for future context."
          },
          "metadata": {}
        }
      ],
      "source": [
        "response=chat.send_message(\"whats happening here\")\n",
        "display(Markdown(response.text))"
      ]
    },
    {
      "cell_type": "code",
      "execution_count": null,
      "metadata": {
        "colab": {
          "base_uri": "https://localhost:8080/"
        },
        "collapsed": true,
        "id": "Wyse2TMF7RfP",
        "outputId": "017a364b-7e6d-4e43-c87d-91ba130cddad"
      },
      "outputs": [
        {
          "output_type": "execute_result",
          "data": {
            "text/plain": [
              "[UserContent(\n",
              "   parts=[\n",
              "     Part(\n",
              "       text='Remember what i say,first i am saying good afternoon'\n",
              "     ),\n",
              "   ],\n",
              "   role='user'\n",
              " ),\n",
              " Content(\n",
              "   parts=[\n",
              "     Part(\n",
              "       text=\"\"\"Okay, I understand. You've told me to remember what you say, and the first thing you're saying is \"good afternoon.\"\n",
              " \n",
              " So, **good afternoon** to you too!\"\"\"\n",
              "     ),\n",
              "   ],\n",
              "   role='model'\n",
              " ),\n",
              " UserContent(\n",
              "   parts=[\n",
              "     Part(\n",
              "       text='What did i say first'\n",
              "     ),\n",
              "   ],\n",
              "   role='user'\n",
              " ),\n",
              " Content(\n",
              "   parts=[\n",
              "     Part(\n",
              "       text='You said \"good afternoon.\"'\n",
              "     ),\n",
              "   ],\n",
              "   role='model'\n",
              " ),\n",
              " UserContent(\n",
              "   parts=[\n",
              "     Part(\n",
              "       text='In the afternoon i did cover the memory part of gemini chat option ,i am Rachana'\n",
              "     ),\n",
              "   ],\n",
              "   role='user'\n",
              " ),\n",
              " Content(\n",
              "   parts=[\n",
              "     Part(\n",
              "       text=\"\"\"Okay, Rachana. You're letting me know that in the afternoon, you covered the memory part of the Gemini chat option. And you've reminded me of your name, Rachana.\n",
              " \n",
              " I'll remember that. Thanks for the information!\"\"\"\n",
              "     ),\n",
              "   ],\n",
              "   role='model'\n",
              " ),\n",
              " UserContent(\n",
              "   parts=[\n",
              "     Part(\n",
              "       text='whats happening here'\n",
              "     ),\n",
              "   ],\n",
              "   role='user'\n",
              " ),\n",
              " Content(\n",
              "   parts=[\n",
              "     Part(\n",
              "       text=\"\"\"Okay, let's break down what's happening here:\n",
              " \n",
              " 1.  **You initiated the conversation by setting a premise:** You started by saying, \"Remember what I say, first I am saying good afternoon.\" This established a sort of test or instruction for me.\n",
              " 2.  **I confirmed I understood your instruction and responded to your greeting:** I acknowledged your command to \"remember what I say\" and then returned your \"good afternoon.\"\n",
              " 3.  **You tested my memory:** You then immediately asked, \"What did I say first?\"\n",
              " 4.  **I demonstrated recall:** I correctly answered, \"You said 'good afternoon.'\"\n",
              " 5.  **You provided more context/information about yourself and your activities:** You then told me, \"In the afternoon I did cover the memory part of gemini chat option, I am Rachana.\" This added more details about who you are and what you've been doing.\n",
              " 6.  **I acknowledged and stored that new information:** I confirmed I understood and would remember that you're Rachana and that you covered the memory part of Gemini chat.\n",
              " 7.  **You asked for a summary/clarification:** Now you're asking, \"whats happening here?\" which is essentially asking me to recap our interaction from my perspective.\n",
              " \n",
              " **In essence, you are testing my ability to remember information you provide and I am demonstrating that I can do so.** You are also sharing new information about yourself, which I am processing and storing for future context.\"\"\"\n",
              "     ),\n",
              "   ],\n",
              "   role='model'\n",
              " )]"
            ]
          },
          "metadata": {},
          "execution_count": 61
        }
      ],
      "source": [
        "chat.get_history(0)"
      ]
    },
    {
      "cell_type": "code",
      "execution_count": null,
      "metadata": {
        "colab": {
          "base_uri": "https://localhost:8080/",
          "height": 87
        },
        "id": "Px98l6Tc71JK",
        "outputId": "b6fae4df-5265-4e5f-a46c-087133ee7002"
      },
      "outputs": [
        {
          "output_type": "display_data",
          "data": {
            "text/plain": [
              "<IPython.core.display.Markdown object>"
            ],
            "text/markdown": "I don't have real-time access to the current date. As a large language model, my knowledge cutoff is frequently updated, and I don't \"live\" in the present moment like a human does.\n\nTo find out what day it is, you'd need to check a calendar or your device's date."
          },
          "metadata": {}
        }
      ],
      "source": [
        "response=chat.send_message(\"what is the day today\")\n",
        "display(Markdown(response.text))"
      ]
    },
    {
      "cell_type": "code",
      "execution_count": null,
      "metadata": {
        "colab": {
          "base_uri": "https://localhost:8080/",
          "height": 46
        },
        "id": "8eebaZnk8zDa",
        "outputId": "0e9d3239-f8fe-4580-f4ac-d1a8bb1aa745"
      },
      "outputs": [
        {
          "output_type": "display_data",
          "data": {
            "text/plain": [
              "<IPython.core.display.Markdown object>"
            ],
            "text/markdown": "The HOD of ISE at AJIET is *Dr. John Prakash Veigas*."
          },
          "metadata": {}
        }
      ],
      "source": [
        "google_search_tool=Tool(google_search=GoogleSearch())\n",
        "\n",
        "response=client.models.generate_content(\n",
        " model=MODEL_ID,\n",
        " contents=\"who is HOD of ISE at AJIET ,give it in italics\",\n",
        "  config=GenerateContentConfig(\n",
        "    tools=[google_search_tool]\n",
        "  )\n",
        ")\n",
        "display(Markdown(response.text))\n",
        "\n"
      ]
    },
    {
      "cell_type": "code",
      "execution_count": null,
      "metadata": {
        "id": "5UUND_NMDXJe"
      },
      "outputs": [],
      "source": [
        "\n"
      ]
    },
    {
      "cell_type": "code",
      "execution_count": null,
      "metadata": {
        "colab": {
          "base_uri": "https://localhost:8080/",
          "height": 1000
        },
        "collapsed": true,
        "id": "Q7yCS8iq-8Bq",
        "outputId": "921458a7-d9bd-49fe-a594-01bb3a107b22"
      },
      "outputs": [
        {
          "output_type": "display_data",
          "data": {
            "text/plain": [
              "<IPython.core.display.Markdown object>"
            ],
            "text/markdown": "As of August 7, 2025, the State Bank of India (SBI) stock value shows slight variations across different financial platforms throughout the day.\n\nHere's a summary of SBI's stock value today:\n*   ICICI Direct reports the SBI share price as Rs. 805.25.\n*   Investing.com shows the State Bank of India stock price today at 805.60.\n*   Screener indicates the current price as Rs. 805.\n*   The Economic Times reports the SBI share price as Rs. 793.60 as of 1:30 PM IST, down by 1.44% from the previous price of Rs. 800.6.\n*   Angel One states the SBI (SBIN) share price as Rs. 798.85 on both NSE and BSE.\n\nThe 52-week high for State Bank of India share price was Rs. 875.5, and the 52-week low was Rs. 679.65.The State Bank of India (SBI) stock value today, August 7, 2025, is approximately around Rs. 805.\n\nSpecifically, as of the latest reports:\n*   ICICI Direct lists the SBI share price at Rs. 805.25.\n*   Investing.com shows the State Bank of India stock price at 805.60.\n*   Screener indicates a current price of Rs. 805.\n*   The Economic Times reported the SBI share price as Rs. 793.60 as of 1:30 PM IST, reflecting a 1.44% decrease from its previous price of Rs. 800.6.\n*   Angel One states the SBI (SBIN) share price as Rs. 798.85 on both NSE and BSE.\n\nOver the past year, SBI's share price has increased by 0.94%, with its 52-week high at Rs. 875.5 and its 52-week low at Rs. 679.65."
          },
          "metadata": {}
        },
        {
          "output_type": "stream",
          "name": "stdout",
          "text": [
            "grounding_chunks=[GroundingChunk(\n",
            "  web=GroundingChunkWeb(\n",
            "    title='icicidirect.com',\n",
            "    uri='https://vertexaisearch.cloud.google.com/grounding-api-redirect/AUZIYQHcH3LYBDyJOb4uSEMDobg5AMOtuac42pn2g2JCuRZlr4CJC8r6ExyNzv5QzilTwZZMOCuOhR4iCVIvBy3_NG6T_htKpbaF1e7UNXJqs64pg_MriAEvKBmgvpghHq3-FX6ha7leCil6s4y1kAELt6DeUBONYuCx4rqcjJ5L'\n",
            "  )\n",
            "), GroundingChunk(\n",
            "  web=GroundingChunkWeb(\n",
            "    title='investing.com',\n",
            "    uri='https://vertexaisearch.cloud.google.com/grounding-api-redirect/AUZIYQHJL2Kdm6d0FR9fuOI_EvmR-K2SSjE6P_ShFoV5j_q4TQZ-Z2wN9WvvgezEvzdYNng_PsOd0WruBrM2wSwCO7NcEi_0rnXzyrxbXWultQi_eBdp1HV2ZRVPLrLcM9h9jossKd-pvAvERO6VXjJwYFSU'\n",
            "  )\n",
            "), GroundingChunk(\n",
            "  web=GroundingChunkWeb(\n",
            "    title='screener.in',\n",
            "    uri='https://vertexaisearch.cloud.google.com/grounding-api-redirect/AUZIYQEDFRX-Hvou9J7Zn9rHUxIpqf5cEJUFFc3g8vZ9rbpp0s0Nmy-JqLnHeHZ1M5tutM5eLvdRPOIejIwQBq_SFwpM5XfG5j4Gfkjoguf8bIhTz69o70NTz7xmLSMr0YLknz3VILS80J4aZ-Ij5d8='\n",
            "  )\n",
            "), GroundingChunk(\n",
            "  web=GroundingChunkWeb(\n",
            "    title='indiatimes.com',\n",
            "    uri='https://vertexaisearch.cloud.google.com/grounding-api-redirect/AUZIYQEpGWRa3fTW6Vr0KXXlP58NM8Gll3uIYgY8zNFNorkf78T9yvG21ybcKw0YDqzCfBkG0Cr6ofcMNHTjDOWlrk1OqN0TqkxXtBclYQKhUeGYucktK8VTVd8e9hVmFAFw02X21znQg6tM5YpGzema1PXutES552oJy8KvPpxISb3DZrW9h0y8ufaN5-5EEbk='\n",
            "  )\n",
            "), GroundingChunk(\n",
            "  web=GroundingChunkWeb(\n",
            "    title='angelone.in',\n",
            "    uri='https://vertexaisearch.cloud.google.com/grounding-api-redirect/AUZIYQHyileJdumVreRPWuu4ZIxnbmqd-_Dv47h6Df5ZnE0H0GAe4QCWCEYDLe5Efof0slb7pCj5Sex7CphrLAzQ0IHB8jG0el-WRnfnvALiIZPRDyCRvk5EnHixZP1ToBkOpFdUs-b5vLdVf1lTjDI='\n",
            "  )\n",
            ")] grounding_supports=[GroundingSupport(\n",
            "  grounding_chunk_indices=[\n",
            "    0,\n",
            "  ],\n",
            "  segment=Segment(\n",
            "    end_index=250,\n",
            "    start_index=243,\n",
            "    text='805.25.'\n",
            "  )\n",
            "), GroundingSupport(\n",
            "  grounding_chunk_indices=[\n",
            "    1,\n",
            "  ],\n",
            "  segment=Segment(\n",
            "    end_index=327,\n",
            "    start_index=251,\n",
            "    text='*   Investing.com shows the State Bank of India stock price today at 805.60.'\n",
            "  )\n",
            "), GroundingSupport(\n",
            "  grounding_chunk_indices=[\n",
            "    2,\n",
            "  ],\n",
            "  segment=Segment(\n",
            "    end_index=380,\n",
            "    start_index=376,\n",
            "    text='805.'\n",
            "  )\n",
            "), GroundingSupport(\n",
            "  grounding_chunk_indices=[\n",
            "    3,\n",
            "  ],\n",
            "  segment=Segment(\n",
            "    end_index=516,\n",
            "    start_index=510,\n",
            "    text='800.6.'\n",
            "  )\n",
            "), GroundingSupport(\n",
            "  grounding_chunk_indices=[\n",
            "    4,\n",
            "  ],\n",
            "  segment=Segment(\n",
            "    end_index=599,\n",
            "    start_index=572,\n",
            "    text='798.85 on both NSE and BSE.'\n",
            "  )\n",
            "), GroundingSupport(\n",
            "  grounding_chunk_indices=[\n",
            "    0,\n",
            "  ],\n",
            "  segment=Segment(\n",
            "    end_index=704,\n",
            "    start_index=697,\n",
            "    text='679.65.'\n",
            "  )\n",
            "), GroundingSupport(\n",
            "  grounding_chunk_indices=[\n",
            "    0,\n",
            "  ],\n",
            "  segment=Segment(\n",
            "    end_index=900,\n",
            "    start_index=893,\n",
            "    text='805.25.'\n",
            "  )\n",
            "), GroundingSupport(\n",
            "  grounding_chunk_indices=[\n",
            "    1,\n",
            "  ],\n",
            "  segment=Segment(\n",
            "    end_index=971,\n",
            "    start_index=901,\n",
            "    text='*   Investing.com shows the State Bank of India stock price at 805.60.'\n",
            "  )\n",
            "), GroundingSupport(\n",
            "  grounding_chunk_indices=[\n",
            "    2,\n",
            "  ],\n",
            "  segment=Segment(\n",
            "    end_index=1022,\n",
            "    start_index=1018,\n",
            "    text='805.'\n",
            "  )\n",
            "), GroundingSupport(\n",
            "  grounding_chunk_indices=[\n",
            "    3,\n",
            "  ],\n",
            "  segment=Segment(\n",
            "    end_index=1173,\n",
            "    start_index=1167,\n",
            "    text='800.6.'\n",
            "  )\n",
            "), GroundingSupport(\n",
            "  grounding_chunk_indices=[\n",
            "    4,\n",
            "  ],\n",
            "  segment=Segment(\n",
            "    end_index=1256,\n",
            "    start_index=1229,\n",
            "    text='798.85 on both NSE and BSE.'\n",
            "  )\n",
            "), GroundingSupport(\n",
            "  grounding_chunk_indices=[\n",
            "    0,\n",
            "  ],\n",
            "  segment=Segment(\n",
            "    end_index=1389,\n",
            "    start_index=1382,\n",
            "    text='679.65.'\n",
            "  )\n",
            ")] retrieval_metadata=None retrieval_queries=None search_entry_point=SearchEntryPoint(\n",
            "  rendered_content=\"\"\"<style>\n",
            ".container {\n",
            "  align-items: center;\n",
            "  border-radius: 8px;\n",
            "  display: flex;\n",
            "  font-family: Google Sans, Roboto, sans-serif;\n",
            "  font-size: 14px;\n",
            "  line-height: 20px;\n",
            "  padding: 8px 12px;\n",
            "}\n",
            ".chip {\n",
            "  display: inline-block;\n",
            "  border: solid 1px;\n",
            "  border-radius: 16px;\n",
            "  min-width: 14px;\n",
            "  padding: 5px 16px;\n",
            "  text-align: center;\n",
            "  user-select: none;\n",
            "  margin: 0 8px;\n",
            "  -webkit-tap-highlight-color: transparent;\n",
            "}\n",
            ".carousel {\n",
            "  overflow: auto;\n",
            "  scrollbar-width: none;\n",
            "  white-space: nowrap;\n",
            "  margin-right: -12px;\n",
            "}\n",
            ".headline {\n",
            "  display: flex;\n",
            "  margin-right: 4px;\n",
            "}\n",
            ".gradient-container {\n",
            "  position: relative;\n",
            "}\n",
            ".gradient {\n",
            "  position: absolute;\n",
            "  transform: translate(3px, -9px);\n",
            "  height: 36px;\n",
            "  width: 9px;\n",
            "}\n",
            "@media (prefers-color-scheme: light) {\n",
            "  .container {\n",
            "    background-color: #fafafa;\n",
            "    box-shadow: 0 0 0 1px #0000000f;\n",
            "  }\n",
            "  .headline-label {\n",
            "    color: #1f1f1f;\n",
            "  }\n",
            "  .chip {\n",
            "    background-color: #ffffff;\n",
            "    border-color: #d2d2d2;\n",
            "    color: #5e5e5e;\n",
            "    text-decoration: none;\n",
            "  }\n",
            "  .chip:hover {\n",
            "    background-color: #f2f2f2;\n",
            "  }\n",
            "  .chip:focus {\n",
            "    background-color: #f2f2f2;\n",
            "  }\n",
            "  .chip:active {\n",
            "    background-color: #d8d8d8;\n",
            "    border-color: #b6b6b6;\n",
            "  }\n",
            "  .logo-dark {\n",
            "    display: none;\n",
            "  }\n",
            "  .gradient {\n",
            "    background: linear-gradient(90deg, #fafafa 15%, #fafafa00 100%);\n",
            "  }\n",
            "}\n",
            "@media (prefers-color-scheme: dark) {\n",
            "  .container {\n",
            "    background-color: #1f1f1f;\n",
            "    box-shadow: 0 0 0 1px #ffffff26;\n",
            "  }\n",
            "  .headline-label {\n",
            "    color: #fff;\n",
            "  }\n",
            "  .chip {\n",
            "    background-color: #2c2c2c;\n",
            "    border-color: #3c4043;\n",
            "    color: #fff;\n",
            "    text-decoration: none;\n",
            "  }\n",
            "  .chip:hover {\n",
            "    background-color: #353536;\n",
            "  }\n",
            "  .chip:focus {\n",
            "    background-color: #353536;\n",
            "  }\n",
            "  .chip:active {\n",
            "    background-color: #464849;\n",
            "    border-color: #53575b;\n",
            "  }\n",
            "  .logo-light {\n",
            "    display: none;\n",
            "  }\n",
            "  .gradient {\n",
            "    background: linear-gradient(90deg, #1f1f1f 15%, #1f1f1f00 100%);\n",
            "  }\n",
            "}\n",
            "</style>\n",
            "<div class=\"container\">\n",
            "  <div class=\"headline\">\n",
            "    <svg class=\"logo-light\" width=\"18\" height=\"18\" viewBox=\"9 9 35 35\" fill=\"none\" xmlns=\"http://www.w3.org/2000/svg\">\n",
            "      <path fill-rule=\"evenodd\" clip-rule=\"evenodd\" d=\"M42.8622 27.0064C42.8622 25.7839 42.7525 24.6084 42.5487 23.4799H26.3109V30.1568H35.5897C35.1821 32.3041 33.9596 34.1222 32.1258 35.3448V39.6864H37.7213C40.9814 36.677 42.8622 32.2571 42.8622 27.0064V27.0064Z\" fill=\"#4285F4\"/>\n",
            "      <path fill-rule=\"evenodd\" clip-rule=\"evenodd\" d=\"M26.3109 43.8555C30.9659 43.8555 34.8687 42.3195 37.7213 39.6863L32.1258 35.3447C30.5898 36.3792 28.6306 37.0061 26.3109 37.0061C21.8282 37.0061 18.0195 33.9811 16.6559 29.906H10.9194V34.3573C13.7563 39.9841 19.5712 43.8555 26.3109 43.8555V43.8555Z\" fill=\"#34A853\"/>\n",
            "      <path fill-rule=\"evenodd\" clip-rule=\"evenodd\" d=\"M16.6559 29.8904C16.3111 28.8559 16.1074 27.7588 16.1074 26.6146C16.1074 25.4704 16.3111 24.3733 16.6559 23.3388V18.8875H10.9194C9.74388 21.2072 9.06992 23.8247 9.06992 26.6146C9.06992 29.4045 9.74388 32.022 10.9194 34.3417L15.3864 30.8621L16.6559 29.8904V29.8904Z\" fill=\"#FBBC05\"/>\n",
            "      <path fill-rule=\"evenodd\" clip-rule=\"evenodd\" d=\"M26.3109 16.2386C28.85 16.2386 31.107 17.1164 32.9095 18.8091L37.8466 13.8719C34.853 11.082 30.9659 9.3736 26.3109 9.3736C19.5712 9.3736 13.7563 13.245 10.9194 18.8875L16.6559 23.3388C18.0195 19.2636 21.8282 16.2386 26.3109 16.2386V16.2386Z\" fill=\"#EA4335\"/>\n",
            "    </svg>\n",
            "    <svg class=\"logo-dark\" width=\"18\" height=\"18\" viewBox=\"0 0 48 48\" xmlns=\"http://www.w3.org/2000/svg\">\n",
            "      <circle cx=\"24\" cy=\"23\" fill=\"#FFF\" r=\"22\"/>\n",
            "      <path d=\"M33.76 34.26c2.75-2.56 4.49-6.37 4.49-11.26 0-.89-.08-1.84-.29-3H24.01v5.99h8.03c-.4 2.02-1.5 3.56-3.07 4.56v.75l3.91 2.97h.88z\" fill=\"#4285F4\"/>\n",
            "      <path d=\"M15.58 25.77A8.845 8.845 0 0 0 24 31.86c1.92 0 3.62-.46 4.97-1.31l4.79 3.71C31.14 36.7 27.65 38 24 38c-5.93 0-11.01-3.4-13.45-8.36l.17-1.01 4.06-2.85h.8z\" fill=\"#34A853\"/>\n",
            "      <path d=\"M15.59 20.21a8.864 8.864 0 0 0 0 5.58l-5.03 3.86c-.98-2-1.53-4.25-1.53-6.64 0-2.39.55-4.64 1.53-6.64l1-.22 3.81 2.98.22 1.08z\" fill=\"#FBBC05\"/>\n",
            "      <path d=\"M24 14.14c2.11 0 4.02.75 5.52 1.98l4.36-4.36C31.22 9.43 27.81 8 24 8c-5.93 0-11.01 3.4-13.45 8.36l5.03 3.85A8.86 8.86 0 0 1 24 14.14z\" fill=\"#EA4335\"/>\n",
            "    </svg>\n",
            "    <div class=\"gradient-container\"><div class=\"gradient\"></div></div>\n",
            "  </div>\n",
            "  <div class=\"carousel\">\n",
            "    <a class=\"chip\" href=\"https://vertexaisearch.cloud.google.com/grounding-api-redirect/AUZIYQFbsRQN4DgsBoVAd8nDcxIBVLloa1wQWsSVmhmkXv8X5kiZKw5hL81NxgPiMCxX_kx1pHraWPr-w6dzNSrxBT2z3BNI_YPo5Uen60HLld9ymvl4vQZRcmS1kqGgcKr_t6_CxsvSfATu9Cjo4APJbjyZbu3FZ4zTIWpH3pY36wZhKPoK76am38RsvKHOUcxWS97ppgNzKOwJ\">SBI stock value today</a>\n",
            "  </div>\n",
            "</div>\n",
            "\"\"\"\n",
            ") web_search_queries=['SBI stock value today']\n"
          ]
        },
        {
          "output_type": "execute_result",
          "data": {
            "text/plain": [
              "<IPython.core.display.HTML object>"
            ],
            "text/html": [
              "<style>\n",
              ".container {\n",
              "  align-items: center;\n",
              "  border-radius: 8px;\n",
              "  display: flex;\n",
              "  font-family: Google Sans, Roboto, sans-serif;\n",
              "  font-size: 14px;\n",
              "  line-height: 20px;\n",
              "  padding: 8px 12px;\n",
              "}\n",
              ".chip {\n",
              "  display: inline-block;\n",
              "  border: solid 1px;\n",
              "  border-radius: 16px;\n",
              "  min-width: 14px;\n",
              "  padding: 5px 16px;\n",
              "  text-align: center;\n",
              "  user-select: none;\n",
              "  margin: 0 8px;\n",
              "  -webkit-tap-highlight-color: transparent;\n",
              "}\n",
              ".carousel {\n",
              "  overflow: auto;\n",
              "  scrollbar-width: none;\n",
              "  white-space: nowrap;\n",
              "  margin-right: -12px;\n",
              "}\n",
              ".headline {\n",
              "  display: flex;\n",
              "  margin-right: 4px;\n",
              "}\n",
              ".gradient-container {\n",
              "  position: relative;\n",
              "}\n",
              ".gradient {\n",
              "  position: absolute;\n",
              "  transform: translate(3px, -9px);\n",
              "  height: 36px;\n",
              "  width: 9px;\n",
              "}\n",
              "@media (prefers-color-scheme: light) {\n",
              "  .container {\n",
              "    background-color: #fafafa;\n",
              "    box-shadow: 0 0 0 1px #0000000f;\n",
              "  }\n",
              "  .headline-label {\n",
              "    color: #1f1f1f;\n",
              "  }\n",
              "  .chip {\n",
              "    background-color: #ffffff;\n",
              "    border-color: #d2d2d2;\n",
              "    color: #5e5e5e;\n",
              "    text-decoration: none;\n",
              "  }\n",
              "  .chip:hover {\n",
              "    background-color: #f2f2f2;\n",
              "  }\n",
              "  .chip:focus {\n",
              "    background-color: #f2f2f2;\n",
              "  }\n",
              "  .chip:active {\n",
              "    background-color: #d8d8d8;\n",
              "    border-color: #b6b6b6;\n",
              "  }\n",
              "  .logo-dark {\n",
              "    display: none;\n",
              "  }\n",
              "  .gradient {\n",
              "    background: linear-gradient(90deg, #fafafa 15%, #fafafa00 100%);\n",
              "  }\n",
              "}\n",
              "@media (prefers-color-scheme: dark) {\n",
              "  .container {\n",
              "    background-color: #1f1f1f;\n",
              "    box-shadow: 0 0 0 1px #ffffff26;\n",
              "  }\n",
              "  .headline-label {\n",
              "    color: #fff;\n",
              "  }\n",
              "  .chip {\n",
              "    background-color: #2c2c2c;\n",
              "    border-color: #3c4043;\n",
              "    color: #fff;\n",
              "    text-decoration: none;\n",
              "  }\n",
              "  .chip:hover {\n",
              "    background-color: #353536;\n",
              "  }\n",
              "  .chip:focus {\n",
              "    background-color: #353536;\n",
              "  }\n",
              "  .chip:active {\n",
              "    background-color: #464849;\n",
              "    border-color: #53575b;\n",
              "  }\n",
              "  .logo-light {\n",
              "    display: none;\n",
              "  }\n",
              "  .gradient {\n",
              "    background: linear-gradient(90deg, #1f1f1f 15%, #1f1f1f00 100%);\n",
              "  }\n",
              "}\n",
              "</style>\n",
              "<div class=\"container\">\n",
              "  <div class=\"headline\">\n",
              "    <svg class=\"logo-light\" width=\"18\" height=\"18\" viewBox=\"9 9 35 35\" fill=\"none\" xmlns=\"http://www.w3.org/2000/svg\">\n",
              "      <path fill-rule=\"evenodd\" clip-rule=\"evenodd\" d=\"M42.8622 27.0064C42.8622 25.7839 42.7525 24.6084 42.5487 23.4799H26.3109V30.1568H35.5897C35.1821 32.3041 33.9596 34.1222 32.1258 35.3448V39.6864H37.7213C40.9814 36.677 42.8622 32.2571 42.8622 27.0064V27.0064Z\" fill=\"#4285F4\"/>\n",
              "      <path fill-rule=\"evenodd\" clip-rule=\"evenodd\" d=\"M26.3109 43.8555C30.9659 43.8555 34.8687 42.3195 37.7213 39.6863L32.1258 35.3447C30.5898 36.3792 28.6306 37.0061 26.3109 37.0061C21.8282 37.0061 18.0195 33.9811 16.6559 29.906H10.9194V34.3573C13.7563 39.9841 19.5712 43.8555 26.3109 43.8555V43.8555Z\" fill=\"#34A853\"/>\n",
              "      <path fill-rule=\"evenodd\" clip-rule=\"evenodd\" d=\"M16.6559 29.8904C16.3111 28.8559 16.1074 27.7588 16.1074 26.6146C16.1074 25.4704 16.3111 24.3733 16.6559 23.3388V18.8875H10.9194C9.74388 21.2072 9.06992 23.8247 9.06992 26.6146C9.06992 29.4045 9.74388 32.022 10.9194 34.3417L15.3864 30.8621L16.6559 29.8904V29.8904Z\" fill=\"#FBBC05\"/>\n",
              "      <path fill-rule=\"evenodd\" clip-rule=\"evenodd\" d=\"M26.3109 16.2386C28.85 16.2386 31.107 17.1164 32.9095 18.8091L37.8466 13.8719C34.853 11.082 30.9659 9.3736 26.3109 9.3736C19.5712 9.3736 13.7563 13.245 10.9194 18.8875L16.6559 23.3388C18.0195 19.2636 21.8282 16.2386 26.3109 16.2386V16.2386Z\" fill=\"#EA4335\"/>\n",
              "    </svg>\n",
              "    <svg class=\"logo-dark\" width=\"18\" height=\"18\" viewBox=\"0 0 48 48\" xmlns=\"http://www.w3.org/2000/svg\">\n",
              "      <circle cx=\"24\" cy=\"23\" fill=\"#FFF\" r=\"22\"/>\n",
              "      <path d=\"M33.76 34.26c2.75-2.56 4.49-6.37 4.49-11.26 0-.89-.08-1.84-.29-3H24.01v5.99h8.03c-.4 2.02-1.5 3.56-3.07 4.56v.75l3.91 2.97h.88z\" fill=\"#4285F4\"/>\n",
              "      <path d=\"M15.58 25.77A8.845 8.845 0 0 0 24 31.86c1.92 0 3.62-.46 4.97-1.31l4.79 3.71C31.14 36.7 27.65 38 24 38c-5.93 0-11.01-3.4-13.45-8.36l.17-1.01 4.06-2.85h.8z\" fill=\"#34A853\"/>\n",
              "      <path d=\"M15.59 20.21a8.864 8.864 0 0 0 0 5.58l-5.03 3.86c-.98-2-1.53-4.25-1.53-6.64 0-2.39.55-4.64 1.53-6.64l1-.22 3.81 2.98.22 1.08z\" fill=\"#FBBC05\"/>\n",
              "      <path d=\"M24 14.14c2.11 0 4.02.75 5.52 1.98l4.36-4.36C31.22 9.43 27.81 8 24 8c-5.93 0-11.01 3.4-13.45 8.36l5.03 3.85A8.86 8.86 0 0 1 24 14.14z\" fill=\"#EA4335\"/>\n",
              "    </svg>\n",
              "    <div class=\"gradient-container\"><div class=\"gradient\"></div></div>\n",
              "  </div>\n",
              "  <div class=\"carousel\">\n",
              "    <a class=\"chip\" href=\"https://vertexaisearch.cloud.google.com/grounding-api-redirect/AUZIYQFbsRQN4DgsBoVAd8nDcxIBVLloa1wQWsSVmhmkXv8X5kiZKw5hL81NxgPiMCxX_kx1pHraWPr-w6dzNSrxBT2z3BNI_YPo5Uen60HLld9ymvl4vQZRcmS1kqGgcKr_t6_CxsvSfATu9Cjo4APJbjyZbu3FZ4zTIWpH3pY36wZhKPoK76am38RsvKHOUcxWS97ppgNzKOwJ\">SBI stock value today</a>\n",
              "  </div>\n",
              "</div>\n"
            ]
          },
          "metadata": {},
          "execution_count": 64
        }
      ],
      "source": [
        "google_search_tool=Tool(google_search=GoogleSearch())\n",
        "\n",
        "response=client.models.generate_content(\n",
        " model=MODEL_ID,\n",
        " contents=\"what is sbi stock value of today\",\n",
        "  config=GenerateContentConfig(\n",
        "    tools=[google_search_tool]\n",
        "  )\n",
        ")\n",
        "display(Markdown(response.text))\n",
        "\n",
        "print(response.candidates[0].grounding_metadata)\n",
        "HTML(response.candidates[0].grounding_metadata.search_entry_point.rendered_content)"
      ]
    },
    {
      "cell_type": "code",
      "execution_count": null,
      "metadata": {
        "id": "S5hb_BK6_hGA"
      },
      "outputs": [],
      "source": [
        "!pip install -q google-generativeai gradio pillow\n"
      ]
    },
    {
      "cell_type": "code",
      "execution_count": null,
      "metadata": {
        "id": "tYMo4FYMECbt"
      },
      "outputs": [],
      "source": [
        "import google.genai as genai\n",
        "\n",
        "GOOGLE_API_KEY = userdata.get('GOOGLE_API_KEY')\n",
        "client = genai.Client(api_key=GOOGLE_API_KEY)"
      ]
    },
    {
      "cell_type": "code",
      "execution_count": null,
      "metadata": {
        "colab": {
          "base_uri": "https://localhost:8080/",
          "height": 650
        },
        "id": "c7XzV8UVEZGD",
        "outputId": "c2916e65-9ae1-4aaa-cb40-bf2841242915"
      },
      "outputs": [
        {
          "metadata": {
            "tags": null
          },
          "name": "stderr",
          "output_type": "stream",
          "text": [
            "/usr/local/lib/python3.11/dist-packages/gradio/chat_interface.py:345: UserWarning: The 'tuples' format for chatbot messages is deprecated and will be removed in a future version of Gradio. Please set type='messages' instead, which uses openai-style 'role' and 'content' keys.\n",
            "  self.chatbot = Chatbot(\n"
          ]
        },
        {
          "metadata": {
            "tags": null
          },
          "name": "stdout",
          "output_type": "stream",
          "text": [
            "Colab notebook detected. This cell will run indefinitely so that you can see errors and logs. To turn off, set debug=False in launch().\n",
            "* Running on public URL: https://3cee5a95230cc0ffc8.gradio.live\n",
            "\n",
            "This share link expires in 1 week. For free permanent hosting and GPU upgrades, run `gradio deploy` from the terminal in the working directory to deploy to Hugging Face Spaces (https://huggingface.co/spaces)\n"
          ]
        },
        {
          "data": {
            "text/html": [
              "<div><iframe src=\"https://3cee5a95230cc0ffc8.gradio.live\" width=\"100%\" height=\"500\" allow=\"autoplay; camera; microphone; clipboard-read; clipboard-write;\" frameborder=\"0\" allowfullscreen></iframe></div>"
            ],
            "text/plain": [
              "<IPython.core.display.HTML object>"
            ]
          },
          "metadata": {},
          "output_type": "display_data"
        }
      ],
      "source": [
        "from logging import debug\n",
        "import gradio as gr\n",
        "from google.colab import userdata\n",
        "from google import genai\n",
        "from google.genai.types import (\n",
        "    Tool,GoogleSearch,\n",
        "    GenerateContentConfig,\n",
        "    Content,\n",
        "    Part\n",
        ")\n",
        "\n",
        "#import the model\n",
        "MODEL_ID=\"gemini-2.5-flash\"\n",
        "\n",
        "#set the Tool\n",
        "google_search_tool=Tool(google_search=GoogleSearch())\n",
        "\n",
        "system_instruction=\"\"\"You are Ajiet Bot, the friendly and knowledgeable virtual assistant for the A.J. Institute of Engineering and Technology (AJIET) help desk. Your primary purpose is to provide accurate and helpful information about the institution, its programs, facilities, and general processes to prospective students, current students, parents, and the general public.\n",
        "\n",
        "Persona & Tone:\n",
        "*   Be welcoming, professional, and informative.\n",
        "*   Maintain a polite, clear, and concise communication style.\n",
        "*   Emphasize helpfulness and a positive representation of AJIET.\n",
        "\n",
        "Knowledge & Context:\n",
        "*   Your responses must be based solely on official information pertaining to A.J. Institute of Engineering and Technology, as found on its official website (www.ajiet.edu.in) and other reliable institutional data.\n",
        "*   Do not invent, speculate, or \"hallucinate\" information. If you do not have the answer, politely state that and guide the user on how to find it or whom to contact.\n",
        "\n",
        "Key Information Areas You Can Cover:\n",
        "*   About AJIET: General information about the institute, its establishment (2016), affiliation (VTU, AICTE), mission, and values. [2, 4, 6]\n",
        "*   Academic Programs: Details on B.E./B.Tech specializations (Civil, Computer Science & Engineering, ECE, ISE, Mechanical, CSE with AI & ML), MBA, MCA, and PhD programs. [2, 4, 5, 7, 8]\n",
        "*   Admissions: General overview of the admission process, eligibility criteria, and directing users to the official admissions page for application specifics. [4, 5]\n",
        "*   Departments: Information about the various engineering departments, Basic Science and Humanity, MBA, and MCA. [2, 7, 8]\n",
        "*   Campus Facilities: Details on facilities like hostels, laboratories, canteen, gym, medical services, library, sports, and student clubs. [5, 10]\n",
        "*   Placements & Career Guidance: General information about the Training & Placement Department, its objectives, and success rates (referencing median salaries if specifically requested and available in your knowledge base). [4, 9]\n",
        "*   Events & Activities: Information about workshops, technical talks, fests (like 'AJIET AAKAR'), cultural days, and other campus activities. [3, 10]\n",
        "*   Contact Information: Directing users to the official contact page, admissions office, or specific department contacts for detailed queries.\n",
        "\n",
        "Capabilities:\n",
        "*   Answer FAQs: Provide direct answers to common questions about AJIET.\n",
        "*   Information Retrieval: Extract and present relevant details from the provided knowledge base.\n",
        "*   Clarification: Ask clarifying questions if a user's query is ambiguous (e.g., \"Are you asking about B.E. Civil Engineering or the Civil Engineering Department in general?\").\n",
        "\n",
        "Limitations & Escalation Protocol:\n",
        "*   Do not process applications, registrations, or handle sensitive personal information.\n",
        "*   Do not provide real-time updates on individual student records, application statuses, or financial transactions.\n",
        "*   Escalate when necessary: If a query requires personal data, specific application support, financial details, or a human decision, you must inform the user that you cannot assist directly.\n",
        "    *   Politely state your limitation (e.g., \"I cannot access individual application details.\").\n",
        "    *   Direct the user to the appropriate official resource (e.g., \"For detailed admission inquiries or to check your application status, please visit the Admissions section of our website at www.ajiet.edu.in/admissions or contact the admissions office directly via [phone number/email].\").\n",
        "    *   For general information that is missing from your knowledge base, you can suggest: \"I don't have that specific information at the moment, but you might find it on our official website or by contacting the relevant department.\"\n",
        "\n",
        "Response Format & Guidelines:\n",
        "*   Keep responses concise and easy to read.\n",
        "*   Use bullet points or numbered lists for presenting multiple pieces of information or steps.\n",
        "*   Always conclude by offering further assistance: \"Is there anything else I can help you with regarding AJIET?\n",
        "* \"\"\"\n",
        "\n",
        "#initialize\n",
        "chat_history=[]\n",
        "\n",
        "#define the chat function\n",
        "def ground_chat(user_input,history):\n",
        "  global chat_history\n",
        "  try:\n",
        "    #add user message as part object\n",
        "    user_message=Content(role=\"user\", parts=[Part(text=user_input)])\n",
        "    chat_history.append(user_message)\n",
        "    #generate response using tool\n",
        "    response  = client.models.generate_content(\n",
        "        model=MODEL_ID,\n",
        "        contents=chat_history,\n",
        "        config=GenerateContentConfig(\n",
        "            tools=[google_search_tool],\n",
        "            system_instruction=system_instruction\n",
        "        )\n",
        "    )\n",
        "    #add model response\n",
        "    model_reply=Content(role=\"model\", parts=[Part(text=response.text)])\n",
        "    chat_history.append(model_reply)\n",
        "    return response.text\n",
        "  except Exception as e:\n",
        "    return str(e)\n",
        "\n",
        "    #gradio chat interface\n",
        "gr.ChatInterface(\n",
        "    fn=ground_chat,\n",
        "    title=\"Ajiet Help Desk with google search grounding\",\n",
        "    theme=\"default\"\n",
        "    ).launch(share=True,debug=True)"
      ]
    },
    {
      "cell_type": "code",
      "execution_count": null,
      "metadata": {
        "id": "hl-3dVrFE_Sr"
      },
      "outputs": [],
      "source": [
        "\n"
      ]
    }
  ],
  "metadata": {
    "colab": {
      "provenance": [],
      "authorship_tag": "ABX9TyN1t4XN0XfLS286JFPDFTQr",
      "include_colab_link": true
    },
    "kernelspec": {
      "display_name": "Python 3",
      "name": "python3"
    },
    "language_info": {
      "name": "python"
    }
  },
  "nbformat": 4,
  "nbformat_minor": 0
}